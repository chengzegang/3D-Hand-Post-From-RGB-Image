{
 "cells": [
  {
   "cell_type": "code",
   "execution_count": 10,
   "metadata": {},
   "outputs": [],
   "source": [
    "import os\n",
    "import json\n",
    "from tqdm.notebook import tqdm\n",
    "from PIL import Image"
   ]
  },
  {
   "cell_type": "code",
   "execution_count": 13,
   "metadata": {},
   "outputs": [
    {
     "data": {
      "application/vnd.jupyter.widget-view+json": {
       "model_id": "857de97451464d77975b77bb23761934",
       "version_major": 2,
       "version_minor": 0
      },
      "text/plain": [
       "  0%|          | 0/124619 [00:00<?, ?it/s]"
      ]
     },
     "metadata": {},
     "output_type": "display_data"
    }
   ],
   "source": [
    "for file in tqdm(os.listdir(\"data/hiu_dmtl_data/to_cv_community\")):\n",
    "    if file.endswith('.jpg'):\n",
    "        name = os.path.basename(file).split('.')[0]\n",
    "        img = Image.open(os.path.join('data', 'hiu_dmtl_data', 'to_cv_community', file))\n",
    "        img.save(os.path.join('data', 'hiu_dmtl_data', 'to_cv_community', name + '.png'))\n",
    "        os.remove(os.path.join('data', 'hiu_dmtl_data', 'to_cv_community', file))"
   ]
  },
  {
   "cell_type": "code",
   "execution_count": 14,
   "metadata": {},
   "outputs": [],
   "source": [
    "if not os.path.exists(\"data/hiu_dmtl_data/train\"):\n",
    "    os.mkdir(\"data/hiu_dmtl_data/train\")"
   ]
  },
  {
   "cell_type": "code",
   "execution_count": 15,
   "metadata": {},
   "outputs": [
    {
     "data": {
      "application/vnd.jupyter.widget-view+json": {
       "model_id": "da79b5c32bf346bea86825fd7baf01a2",
       "version_major": 2,
       "version_minor": 0
      },
      "text/plain": [
       "  0%|          | 0/124619 [00:00<?, ?it/s]"
      ]
     },
     "metadata": {},
     "output_type": "display_data"
    },
    {
     "name": "stdout",
     "output_type": "stream",
     "text": [
      "29760\n"
     ]
    }
   ],
   "source": [
    "usable = []\n",
    "for file in tqdm(os.listdir(\"data/hiu_dmtl_data/to_cv_community\")):\n",
    "    if file.endswith('.json'):\n",
    "        id = os.path.basename(file).split('.')[0]\n",
    "        with open(os.path.join('data', 'hiu_dmtl_data', 'to_cv_community', file), 'r') as jsonfile:\n",
    "            data = json.load(jsonfile)\n",
    "            if sum(data['pts3d_w_2hand']) != 0:\n",
    "                usable.append(id)\n",
    "\n",
    "print(len(usable))\n"
   ]
  },
  {
   "cell_type": "code",
   "execution_count": 16,
   "metadata": {},
   "outputs": [],
   "source": [
    "with open(os.path.join('data', 'hiu_dmtl_data', 'usable.json'), 'w') as jsonfile:\n",
    "    json.dump(usable, jsonfile)"
   ]
  },
  {
   "cell_type": "code",
   "execution_count": 19,
   "metadata": {},
   "outputs": [
    {
     "data": {
      "application/vnd.jupyter.widget-view+json": {
       "model_id": "170d214656e14c728741e95e786534e5",
       "version_major": 2,
       "version_minor": 0
      },
      "text/plain": [
       "  0%|          | 0/29760 [00:00<?, ?it/s]"
      ]
     },
     "metadata": {},
     "output_type": "display_data"
    }
   ],
   "source": [
    "for id in tqdm(usable):\n",
    "    image_path = os.path.join('data', 'hiu_dmtl_data', 'to_cv_community', id + '.png')\n",
    "    label_path = os.path.join('data', 'hiu_dmtl_data', 'to_cv_community', id + '.json')\n",
    "    os.rename(image_path, os.path.join('data', 'hiu_dmtl_data', 'train', id + '.png'))\n",
    "    os.rename(label_path, os.path.join('data', 'hiu_dmtl_data', 'train', id + '.json'))"
   ]
  },
  {
   "cell_type": "code",
   "execution_count": 20,
   "metadata": {},
   "outputs": [
    {
     "data": {
      "application/vnd.jupyter.widget-view+json": {
       "model_id": "1c5382c7aa2f4d1b8f36ac13d7f8574d",
       "version_major": 2,
       "version_minor": 0
      },
      "text/plain": [
       "0it [00:00, ?it/s]"
      ]
     },
     "metadata": {},
     "output_type": "display_data"
    }
   ],
   "source": [
    "if not os.path.exists(\"data/hiu_dmtl_data/test\"):\n",
    "    os.mkdir(\"data/hiu_dmtl_data/test\")\n",
    "if not os.path.exists(\"data/hiu_dmtl_data/valid\"):\n",
    "    os.mkdir(\"data/hiu_dmtl_data/valid\")\n",
    "train_ids = []\n",
    "test_ids = []\n",
    "valid_ids = []\n",
    "for idx, id in tqdm(enumerate(usable)):\n",
    "    if idx % 10 == 0:\n",
    "        image_path = os.path.join('data', 'hiu_dmtl_data', 'train', id + '.png')\n",
    "        label_path = os.path.join('data', 'hiu_dmtl_data', 'train', id + '.json')\n",
    "        os.rename(image_path, os.path.join('data', 'hiu_dmtl_data', 'test', id + '.png'))\n",
    "        os.rename(label_path, os.path.join('data', 'hiu_dmtl_data', 'test', id + '.json'))\n",
    "        test_ids.append(id)\n",
    "    \n",
    "    elif idx % 10 == 3:\n",
    "        image_path = os.path.join('data', 'hiu_dmtl_data', 'train', id + '.png')\n",
    "        label_path = os.path.join('data', 'hiu_dmtl_data', 'train', id + '.json')\n",
    "        os.rename(image_path, os.path.join('data', 'hiu_dmtl_data', 'valid', id + '.png'))\n",
    "        os.rename(label_path, os.path.join('data', 'hiu_dmtl_data', 'valid', id + '.json'))\n",
    "        valid_ids.append(id)\n",
    "    else:\n",
    "        train_ids.append(id)\n"
   ]
  },
  {
   "cell_type": "code",
   "execution_count": null,
   "metadata": {},
   "outputs": [],
   "source": [
    "with open(os.path.join('data', 'hiu_dmtl_data', 'train','ids.json'), 'w') as jsonfile:\n",
    "    json.dump(train_ids, jsonfile)\n",
    "\n",
    "with open(os.path.join('data', 'hiu_dmtl_data', 'test','ids.json'), 'w') as jsonfile:\n",
    "    json.dump(test_ids, jsonfile)\n",
    "\n",
    "with open(os.path.join('data', 'hiu_dmtl_data', 'valid','ids.json'), 'w') as jsonfile:\n",
    "    json.dump(valid_ids, jsonfile)"
   ]
  }
 ],
 "metadata": {
  "interpreter": {
   "hash": "b93a1900f257e630944b6e40676bb02cf134a9f1b90d7b5df07ad0c429c8eee5"
  },
  "kernelspec": {
   "display_name": "Python 3.8.10 64-bit",
   "language": "python",
   "name": "python3"
  },
  "language_info": {
   "codemirror_mode": {
    "name": "ipython",
    "version": 3
   },
   "file_extension": ".py",
   "mimetype": "text/x-python",
   "name": "python",
   "nbconvert_exporter": "python",
   "pygments_lexer": "ipython3",
   "version": "3.8.10"
  },
  "orig_nbformat": 4
 },
 "nbformat": 4,
 "nbformat_minor": 2
}
