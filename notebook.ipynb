{
 "cells": [
  {
   "cell_type": "code",
   "execution_count": 1,
   "metadata": {},
   "outputs": [],
   "source": [
    "import pickle\n",
    "import os\n",
    "import numpy as np\n",
    "import imageio as iio\n",
    "import matplotlib.pyplot as plt\n",
    "from mpl_toolkits.mplot3d import Axes3D"
   ]
  },
  {
   "cell_type": "code",
   "execution_count": 4,
   "metadata": {},
   "outputs": [],
   "source": [
    "anno_file = open('data/RHD_published_v2/evaluation/anno_evaluation.pickle', 'rb')\n",
    "anno = pickle.load(anno_file)"
   ]
  },
  {
   "cell_type": "code",
   "execution_count": 12,
   "metadata": {},
   "outputs": [
    {
     "data": {
      "text/plain": [
       "array([[ 0.        ,  0.        ,  0.        ],\n",
       "       [-0.00918   ,  0.08759   , -0.1189    ],\n",
       "       [-0.01568   ,  0.0708    , -0.09509999],\n",
       "       [-0.02345   ,  0.04382   , -0.06739998],\n",
       "       [-0.01549   ,  0.02274   , -0.03389996],\n",
       "       [ 0.02469   ,  0.08504   , -0.17259997],\n",
       "       [ 0.01922   ,  0.07250001, -0.15429997],\n",
       "       [ 0.012538  ,  0.053812  , -0.12889999],\n",
       "       [ 0.003235  ,  0.03695   , -0.09969997],\n",
       "       [ 0.02843   ,  0.1197    , -0.13749999],\n",
       "       [ 0.03053   ,  0.09231   , -0.13069999],\n",
       "       [ 0.03167   ,  0.066045  , -0.12349999],\n",
       "       [ 0.02542   ,  0.03995   , -0.09469998],\n",
       "       [ 0.04038   ,  0.11586   , -0.12269998],\n",
       "       [ 0.04269   ,  0.08805   , -0.11250001],\n",
       "       [ 0.04404   ,  0.065007  , -0.10570002],\n",
       "       [ 0.03951   ,  0.04175   , -0.08209997],\n",
       "       [ 0.06478   ,  0.10501   , -0.1049    ],\n",
       "       [ 0.06499   ,  0.08965001, -0.09819996],\n",
       "       [ 0.06409   ,  0.07276   , -0.09170002],\n",
       "       [ 0.04836   , -0.01112   ,  0.639     ],\n",
       "       [ 0.        ,  0.        ,  0.        ],\n",
       "       [ 0.088     ,  0.06599   , -0.10280001],\n",
       "       [ 0.07600001,  0.05797   , -0.0783    ],\n",
       "       [ 0.05720001,  0.03429   , -0.05110002],\n",
       "       [ 0.03530002,  0.014251  , -0.02280003],\n",
       "       [ 0.08160001,  0.09281   , -0.1451    ],\n",
       "       [ 0.07230002,  0.07598   , -0.13340002],\n",
       "       [ 0.05760002,  0.05243   , -0.11630005],\n",
       "       [ 0.0465    ,  0.03176   , -0.09010005],\n",
       "       [ 0.053     ,  0.09789   , -0.1652    ],\n",
       "       [ 0.0451    ,  0.08156   , -0.14410001],\n",
       "       [ 0.03550002,  0.06294   , -0.12600005],\n",
       "       [ 0.0255    ,  0.04365   , -0.09240001],\n",
       "       [ 0.03030002,  0.09935001, -0.15620005],\n",
       "       [ 0.02270001,  0.08494   , -0.13240004],\n",
       "       [ 0.0158    ,  0.06949   , -0.11310005],\n",
       "       [ 0.00820002,  0.05181   , -0.08470005],\n",
       "       [ 0.0077    ,  0.09789   , -0.13140005],\n",
       "       [ 0.00210002,  0.08691   , -0.11750001],\n",
       "       [-0.00299999,  0.07593   , -0.10610002],\n",
       "       [-0.45      ,  0.04281   ,  0.6466    ]], dtype=float32)"
      ]
     },
     "execution_count": 12,
     "metadata": {},
     "output_type": "execute_result"
    }
   ],
   "source": [
    "anno[0]['xyz'][0:20] -= anno[0]['xyz'][0]\n",
    "anno[0]['xyz'][21:41] -= anno[0]['xyz'][21]\n",
    "anno[0]['xyz']"
   ]
  },
  {
   "cell_type": "code",
   "execution_count": 17,
   "metadata": {},
   "outputs": [
    {
     "data": {
      "text/plain": [
       "array([[158.   , 136.9  ,   1.   ],\n",
       "       [153.2  , 174.7  ,   1.   ],\n",
       "       [150.4  , 166.3  ,   1.   ],\n",
       "       [147.4  , 154.   ,   1.   ],\n",
       "       [151.4  , 145.4  ,   1.   ],\n",
       "       [170.6  , 174.9  ,   1.   ],\n",
       "       [167.4  , 167.9  ,   1.   ],\n",
       "       [163.8  , 158.3  ,   1.   ],\n",
       "       [159.2  , 150.5  ,   1.   ],\n",
       "       [171.8  , 191.3  ,   1.   ],\n",
       "       [172.7  , 177.4  ,   1.   ],\n",
       "       [173.1  , 164.3  ,   1.   ],\n",
       "       [169.6  , 151.9  ,   1.   ],\n",
       "       [177.3  , 188.6  ,   1.   ],\n",
       "       [178.2  , 174.8  ,   1.   ],\n",
       "       [178.6  , 163.7  ,   1.   ],\n",
       "       [175.8  , 152.9  ,   1.   ],\n",
       "       [188.4  , 182.6  ,   1.   ],\n",
       "       [188.2  , 175.2  ,   1.   ],\n",
       "       [187.5  , 167.2  ,   1.   ],\n",
       "       [181.4  , 155.1  ,   1.   ],\n",
       "       [-13.56 , 152.5  ,   0.   ],\n",
       "       [ -2.058, 181.6  ,   0.   ],\n",
       "       [ -1.16 , 177.3  ,   0.   ],\n",
       "       [ -2.59 , 166.5  ,   0.   ],\n",
       "       [ -4.869, 158.1  ,   0.   ],\n",
       "       [-17.24 , 196.5  ,   0.   ],\n",
       "       [-18.19 , 187.6  ,   0.   ],\n",
       "       [-20.05 , 175.7  ,   0.   ],\n",
       "       [-17.54 , 165.8  ,   0.   ],\n",
       "       [-38.35 , 200.4  ,   0.   ],\n",
       "       [-34.96 , 190.9  ,   0.   ],\n",
       "       [-33.55 , 181.   ,   0.   ],\n",
       "       [-27.69 , 171.2  ,   0.   ],\n",
       "       [-46.61 , 200.5  ,   0.   ],\n",
       "       [-41.87 , 191.9  ,   0.   ],\n",
       "       [-38.65 , 183.7  ,   0.   ],\n",
       "       [-33.16 , 174.7  ,   0.   ],\n",
       "       [-48.77 , 198.1  ,   0.   ],\n",
       "       [-46.59 , 192.1  ,   0.   ],\n",
       "       [-45.07 , 186.4  ,   0.   ],\n",
       "       [-36.93 , 178.7  ,   0.   ]], dtype=float32)"
      ]
     },
     "execution_count": 17,
     "metadata": {},
     "output_type": "execute_result"
    }
   ],
   "source": [
    "anno[0]['uv_vis']"
   ]
  },
  {
   "cell_type": "code",
   "execution_count": 18,
   "metadata": {},
   "outputs": [],
   "source": [
    "import pandas as pd"
   ]
  },
  {
   "cell_type": "code",
   "execution_count": 46,
   "metadata": {},
   "outputs": [],
   "source": [
    "import torch.nn as nn\n",
    "\n",
    "class CNN(nn.Module):\n",
    "    def __init__(self, image_h, image_w):\n",
    "        super().__init__()\n",
    "        self.conv1 = nn.Conv2d(3, 64, 3, padding='same')\n",
    "        self.relu1 = nn.ReLU()\n",
    "        self.conv2 = nn.Conv2d(64, 64, 3, padding='same')\n",
    "        self.relu2 = nn.ReLU()\n",
    "        self.conv3 = nn.Conv2d(64, 64, 3, padding='same')\n",
    "        self.relu3 = nn.ReLU()\n",
    "        self.conv4 = nn.Conv2d(64, 64, 3, padding='same')\n",
    "        self.relu4 = nn.ReLU()\n",
    "        self.flat = nn.Flatten()\n",
    "        self.fc5 = nn.Linear(64 * image_h * image_w, 42 * 3)\n",
    "        self.relu5 = nn.ReLU()\n",
    "        self.fc6 = nn.Linear(42 * 3, 42 * 3)\n",
    "        self.unflat = nn.Unflatten(1, (42, 3))\n",
    "    \n",
    "    \n",
    "    def forward(self, x):\n",
    "        x = self.relu1(self.conv1(x))\n",
    "        x = self.relu2(self.conv2(x))\n",
    "        x = self.relu3(self.conv3(x))\n",
    "        x = self.relu4(self.conv4(x))\n",
    "        \n",
    "        x = self.flat(x)\n",
    "        \n",
    "        x = self.relu5(self.fc5(x))\n",
    "        x = self.fc6(x)\n",
    "\n",
    "        x = self.unflat(x)\n",
    "        return x"
   ]
  },
  {
   "cell_type": "code",
   "execution_count": 47,
   "metadata": {},
   "outputs": [
    {
     "data": {
      "text/plain": [
       "torch.Size([32, 42, 3])"
      ]
     },
     "execution_count": 47,
     "metadata": {},
     "output_type": "execute_result"
    }
   ],
   "source": [
    "import torch\n",
    "x = torch.rand(32, 3, 320, 320)\n",
    "model = CNN(320, 320)\n",
    "pred = model(x)\n",
    "pred.shape"
   ]
  },
  {
   "cell_type": "code",
   "execution_count": null,
   "metadata": {},
   "outputs": [],
   "source": []
  }
 ],
 "metadata": {
  "interpreter": {
   "hash": "b93a1900f257e630944b6e40676bb02cf134a9f1b90d7b5df07ad0c429c8eee5"
  },
  "kernelspec": {
   "display_name": "Python 3.8.10 64-bit",
   "language": "python",
   "name": "python3"
  },
  "language_info": {
   "codemirror_mode": {
    "name": "ipython",
    "version": 3
   },
   "file_extension": ".py",
   "mimetype": "text/x-python",
   "name": "python",
   "nbconvert_exporter": "python",
   "pygments_lexer": "ipython3",
   "version": "3.8.10"
  },
  "orig_nbformat": 4
 },
 "nbformat": 4,
 "nbformat_minor": 2
}
